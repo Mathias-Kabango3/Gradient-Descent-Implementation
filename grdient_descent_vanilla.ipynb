{
 "cells": [
  {
   "cell_type": "code",
   "execution_count": null,
   "id": "416d04e5",
   "metadata": {},
   "outputs": [],
   "source": [
    "def manual_linear_regression_step(x=[1,3], y=[3,6], m=-1, b=1, lr=0.1):\n",
    "    \"\"\"\n",
    "    Performs one step of gradient descent for simple linear regression.\n",
    "\n",
    "    Parameters:\n",
    "    - x: list of feature values(default [1,3])\n",
    "    - y: list of target values(default [3,6])\n",
    "    - m: current slope(default -1)\n",
    "    - b: current intercept(default 1)\n",
    "    - lr: learning rate (default 0.1)\n",
    "\n",
    "    Returns:\n",
    "    - new m and b values\n",
    "    \"\"\"\n",
    "\n",
    "    print(f\"Updated values -> m: {m:.4f}, b: {b:.4f}\")\n",
    "    return m, b"
   ]
  }
 ],
 "metadata": {
  "language_info": {
   "name": "python"
  }
 },
 "nbformat": 4,
 "nbformat_minor": 5
}
