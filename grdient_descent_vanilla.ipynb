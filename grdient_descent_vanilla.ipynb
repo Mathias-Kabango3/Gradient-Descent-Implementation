{
 "cells": [
  {
   "cell_type": "code",
   "execution_count": 1,
   "id": "416d04e5",
   "metadata": {},
   "outputs": [],
   "source": [
    "def manual_linear_regression_step(x=[1,3], y=[3,6], m=-1, b=1, lr=0.1):\n",
    "    \"\"\"\n",
    "    Performs one step of gradient descent for simple linear regression.\n",
    "\n",
    "    Parameters:\n",
    "    - x: list of feature values(default [1,3])\n",
    "    - y: list of target values(default [3,6])\n",
    "    - m: current slope(default -1)\n",
    "    - b: current intercept(default 1)\n",
    "    - lr: learning rate (default 0.1)\n",
    "\n",
    "    Returns:\n",
    "    - new m and b values\n",
    "    \"\"\"\n",
    "    n = len(x)\n",
    "\n",
    "    # --- Iteration 1 ---\n",
    "    y_pred = [m * xi + b for xi in x]\n",
    "    error = [yi - ypi for yi, ypi in zip(y, y_pred)]\n",
    "    dm = (-2 / n) * sum(e * xi for e, xi in zip(error, x))\n",
    "    db = (-2 / n) * sum(error)\n",
    "    m = m - lr * dm\n",
    "    b = b - lr * db\n",
    "    print(f\"Iteration 1 -> m: {m:.4f}, b: {b:.4f}\")\n",
    "\n",
    "    # ---- Iteration 2 -----\n",
    "    ###################\n",
    "    \n",
    "    \n",
    "    # ---- Iteration 3 -------\n",
    "    ###################\n",
    "  \n",
    "    return m, b"
   ]
  }
 ],
 "metadata": {
  "kernelspec": {
   "display_name": "Python 3",
   "language": "python",
   "name": "python3"
  },
  "language_info": {
   "codemirror_mode": {
    "name": "ipython",
    "version": 3
   },
   "file_extension": ".py",
   "mimetype": "text/x-python",
   "name": "python",
   "nbconvert_exporter": "python",
   "pygments_lexer": "ipython3",
   "version": "3.11.5"
  }
 },
 "nbformat": 4,
 "nbformat_minor": 5
}
